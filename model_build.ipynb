{
 "cells": [
  {
   "cell_type": "code",
   "execution_count": 1,
   "metadata": {},
   "outputs": [],
   "source": [
    "import torch"
   ]
  },
  {
   "cell_type": "code",
   "execution_count": 2,
   "metadata": {},
   "outputs": [],
   "source": [
    "import PyPDF2\n",
    "\n",
    "def extract_text_from_pdf(pdf_path):\n",
    "    with open(pdf_path, 'rb') as file:\n",
    "        reader = PyPDF2.PdfReader(file)\n",
    "        text = ''\n",
    "        for page in range(len(reader.pages)):\n",
    "            text += reader.pages[page].extract_text()\n",
    "    return text\n"
   ]
  },
  {
   "cell_type": "code",
   "execution_count": 3,
   "metadata": {},
   "outputs": [
    {
     "name": "stderr",
     "output_type": "stream",
     "text": [
      "c:\\Anaconda\\envs\\resume\\lib\\site-packages\\tqdm\\auto.py:21: TqdmWarning: IProgress not found. Please update jupyter and ipywidgets. See https://ipywidgets.readthedocs.io/en/stable/user_install.html\n",
      "  from .autonotebook import tqdm as notebook_tqdm\n"
     ]
    }
   ],
   "source": [
    "from transformers import BertTokenizer, BertModel\n",
    "import torch\n",
    "\n",
    "# Load pre-trained BERT model and tokenizer\n",
    "tokenizer = BertTokenizer.from_pretrained('bert-base-uncased')\n",
    "model = BertModel.from_pretrained('bert-base-uncased')\n",
    "\n",
    "def get_bert_embedding(text):\n",
    "    inputs = tokenizer(text, return_tensors='pt', max_length=512, truncation=True, padding=True)\n",
    "    with torch.no_grad():\n",
    "        outputs = model(**inputs)\n",
    "    return outputs.last_hidden_state.mean(dim=1).squeeze()\n",
    "\n",
    "def preprocess_text(text):\n",
    "    # Add your text preprocessing steps here\n",
    "    return text.lower().strip()\n"
   ]
  },
  {
   "cell_type": "code",
   "execution_count": 4,
   "metadata": {},
   "outputs": [],
   "source": [
    "from sklearn.metrics.pairwise import cosine_similarity\n",
    "\n",
    "def calculate_similarity(job_description, resume):\n",
    "    job_embedding = get_bert_embedding(preprocess_text(job_description))\n",
    "    resume_embedding = get_bert_embedding(preprocess_text(resume))\n",
    "    similarity = cosine_similarity([job_embedding], [resume_embedding])[0][0]\n",
    "    return similarity\n"
   ]
  },
  {
   "cell_type": "code",
   "execution_count": 5,
   "metadata": {},
   "outputs": [],
   "source": [
    "def rank_resumes(job_description, resume_paths):\n",
    "    similarities = []\n",
    "    for resume_path in resume_paths:\n",
    "        resume_text = extract_text_from_pdf(resume_path)\n",
    "        similarity = calculate_similarity(job_description, resume_text)\n",
    "        similarities.append((resume_path, similarity))\n",
    "    \n",
    "    # Sort resumes by similarity score in descending order\n",
    "    ranked_resumes = sorted(similarities, key=lambda x: x[1], reverse=True)\n",
    "    return ranked_resumes"
   ]
  },
  {
   "cell_type": "code",
   "execution_count": 6,
   "metadata": {},
   "outputs": [],
   "source": [
    "job_description = \"\"\"Job Description:\n",
    "\n",
    "We are seeking a talented and motivated Data Scientist to join our team. In this role, you will work on advanced machine learning models, leverage artificial intelligence techniques, and utilize Python to analyze complex data sets and deliver actionable insights.\n",
    "Key Responsibilities:\n",
    "\n",
    "Develop, implement, and optimize machine learning models to solve business challenges.\n",
    "Use Python and related libraries (Numpy, Pandas, Scikit-learn, TensorFlow, etc.) for data analysis, model training, and prediction.\n",
    "Collaborate with cross-functional teams to understand business requirements and translate them into data-driven solutions.\n",
    "Perform data preprocessing, including cleaning, normalization, and feature engineering, to prepare data for modeling.\n",
    "Conduct exploratory data analysis (EDA) to uncover trends, patterns, and relationships in data.\n",
    "Design and execute experiments to validate model performance and improve accuracy.\n",
    "Deploy and monitor machine learning models in production environments.\n",
    "Stay current with the latest advancements in AI/ML and propose the integration of new technologies to enhance our capabilities.\n",
    "Utilize AI tools like GitHub Copilot for efficient coding and model development.\n",
    "Communicate findings and insights to stakeholders through clear and concise reports, dashboards, and visualizations.\"\"\""
   ]
  },
  {
   "cell_type": "code",
   "execution_count": 7,
   "metadata": {},
   "outputs": [],
   "source": [
    "pd1 = \"D:\\\\self\\\\Resume\\\\JOY_BISWAS.pdf\"\n",
    "pd2 = \"D:\\\\self\\\\Resume\\\\Software\\\\JoyBiswas_060.pdf\"\n",
    "pd3 = \"D:\\\\self\\\\Resume\\\\Data Science\\\\JOY-BISWAS_BWU-BTA-21-060.pdf\""
   ]
  },
  {
   "cell_type": "code",
   "execution_count": 8,
   "metadata": {},
   "outputs": [
    {
     "name": "stdout",
     "output_type": "stream",
     "text": [
      "Rank 1: D:\\self\\Resume\\JOY_BISWAS.pdf with similarity score 0.8398\n",
      "Rank 2: D:\\self\\Resume\\Software\\JoyBiswas_060.pdf with similarity score 0.4341\n",
      "Rank 3: D:\\self\\Resume\\Data Science\\JOY-BISWAS_BWU-BTA-21-060.pdf with similarity score 0.2820\n"
     ]
    }
   ],
   "source": [
    "resume_paths = [pd1,pd2,pd3]\n",
    "\n",
    "ranked_resumes = rank_resumes(job_description, resume_paths)\n",
    "\n",
    "# Print the ranking\n",
    "for rank, (resume_path, score) in enumerate(ranked_resumes, start=1):\n",
    "    print(f\"Rank {rank}: {resume_path} with similarity score {score:.4f}\")\n"
   ]
  },
  {
   "cell_type": "code",
   "execution_count": 9,
   "metadata": {},
   "outputs": [],
   "source": [
    "# Save the tokenizer and model\n",
    "tokenizer.save_pretrained('bert_tokenizer')\n",
    "model.save_pretrained('bert_model')"
   ]
  },
  {
   "cell_type": "code",
   "execution_count": null,
   "metadata": {},
   "outputs": [],
   "source": []
  }
 ],
 "metadata": {
  "kernelspec": {
   "display_name": "resume",
   "language": "python",
   "name": "python3"
  },
  "language_info": {
   "codemirror_mode": {
    "name": "ipython",
    "version": 3
   },
   "file_extension": ".py",
   "mimetype": "text/x-python",
   "name": "python",
   "nbconvert_exporter": "python",
   "pygments_lexer": "ipython3",
   "version": "3.10.14"
  }
 },
 "nbformat": 4,
 "nbformat_minor": 2
}
